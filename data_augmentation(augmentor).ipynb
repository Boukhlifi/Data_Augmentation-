{
  "nbformat": 4,
  "nbformat_minor": 0,
  "metadata": {
    "colab": {
      "name": "data_augmentation(augmentor).ipynb",
      "provenance": [],
      "authorship_tag": "ABX9TyOnGpR5rmmWZE6cKYo+UlnA",
      "include_colab_link": true
    },
    "kernelspec": {
      "name": "python3",
      "display_name": "Python 3"
    }
  },
  "cells": [
    {
      "cell_type": "markdown",
      "metadata": {
        "id": "view-in-github",
        "colab_type": "text"
      },
      "source": [
        "<a href=\"https://colab.research.google.com/github/Boukhlifi/Data_Augmentation-/blob/main/data_augmentation(augmentor).ipynb\" target=\"_parent\"><img src=\"https://colab.research.google.com/assets/colab-badge.svg\" alt=\"Open In Colab\"/></a>"
      ]
    },
    {
      "cell_type": "code",
      "metadata": {
        "colab": {
          "base_uri": "https://localhost:8080/"
        },
        "id": "7dP4F9NVuRZi",
        "outputId": "42d80a70-dfdd-4f0d-d799-5371cf2ef5ff"
      },
      "source": [
        "pip install augmentor"
      ],
      "execution_count": 1,
      "outputs": [
        {
          "output_type": "stream",
          "text": [
            "Collecting augmentor\n",
            "  Downloading https://files.pythonhosted.org/packages/cb/79/861f38d5830cff631e30e33b127076bfef8ac98171e51daa06df0118c75f/Augmentor-0.2.8-py2.py3-none-any.whl\n",
            "Requirement already satisfied: tqdm>=4.9.0 in /usr/local/lib/python3.6/dist-packages (from augmentor) (4.41.1)\n",
            "Requirement already satisfied: Pillow>=5.2.0 in /usr/local/lib/python3.6/dist-packages (from augmentor) (7.0.0)\n",
            "Requirement already satisfied: numpy>=1.11.0 in /usr/local/lib/python3.6/dist-packages (from augmentor) (1.19.5)\n",
            "Requirement already satisfied: future>=0.16.0 in /usr/local/lib/python3.6/dist-packages (from augmentor) (0.16.0)\n",
            "Installing collected packages: augmentor\n",
            "Successfully installed augmentor-0.2.8\n"
          ],
          "name": "stdout"
        }
      ]
    },
    {
      "cell_type": "code",
      "metadata": {
        "id": "JbZoC-Ejudr9"
      },
      "source": [
        "import Augmentor \r\n",
        "import numpy as np\r\n",
        "import os\r\n",
        "from glob import glob#pour voir les nombres de dossiers qui existent\r\n",
        "import random\r\n",
        "import collections"
      ],
      "execution_count": 2,
      "outputs": []
    },
    {
      "cell_type": "code",
      "metadata": {
        "colab": {
          "base_uri": "https://localhost:8080/"
        },
        "id": "93mxL4iMutOQ",
        "outputId": "a3a8dcf7-6a23-439a-d0d1-8ea0eb073110"
      },
      "source": [
        "from google.colab import drive \r\n",
        "drive.mount('/content/drive')"
      ],
      "execution_count": 3,
      "outputs": [
        {
          "output_type": "stream",
          "text": [
            "Mounted at /content/drive\n"
          ],
          "name": "stdout"
        }
      ]
    },
    {
      "cell_type": "code",
      "metadata": {
        "colab": {
          "base_uri": "https://localhost:8080/"
        },
        "id": "DOTj1avOutPm",
        "outputId": "5ce233ab-1160-40eb-a77f-5bb3fe72ab1c"
      },
      "source": [
        "#pour m afficher tous les sous dossiers dans la basse de donnes \r\n",
        "directory ='/content/drive/My Drive/Colab Notebooks/augmentation_augmentor/*/'\r\n",
        "glob(directory)"
      ],
      "execution_count": 5,
      "outputs": [
        {
          "output_type": "execute_result",
          "data": {
            "text/plain": [
              "['/content/drive/My Drive/Colab Notebooks/augmentation_augmentor/3/',\n",
              " '/content/drive/My Drive/Colab Notebooks/augmentation_augmentor/2/',\n",
              " '/content/drive/My Drive/Colab Notebooks/augmentation_augmentor/1/']"
            ]
          },
          "metadata": {
            "tags": []
          },
          "execution_count": 5
        }
      ]
    },
    {
      "cell_type": "code",
      "metadata": {
        "colab": {
          "base_uri": "https://localhost:8080/"
        },
        "id": "SVRwH5qEutTi",
        "outputId": "76094232-ab76-43a7-91fc-d279d96ff2a3"
      },
      "source": [
        "#pour m'afficher les classes de la basse de donnes ou je veux travailler \r\n",
        "folders = []\r\n",
        "for f in glob(directory):\r\n",
        "  if os.path.isdir(f):\r\n",
        "    folders.append(os.path.abspath(f))\r\n",
        "print(\"les classes qui existent  sont : %s \" % [os.path.split(x)[1] for x in folders])\r\n",
        "#print(folders)\r\n",
        "#print([os.path.split(x) for x in folders])"
      ],
      "execution_count": 14,
      "outputs": [
        {
          "output_type": "stream",
          "text": [
            "les classes qui existent  sont : ['3', '2', '1'] \n"
          ],
          "name": "stdout"
        }
      ]
    },
    {
      "cell_type": "code",
      "metadata": {
        "colab": {
          "base_uri": "https://localhost:8080/"
        },
        "id": "f1U5rHO2yCZF",
        "outputId": "e34b9ba6-e1f0-48c9-97f2-e6e35cac9e6a"
      },
      "source": [
        "# un dossier va se crier nommé 'output'dans chaque sous dossier\r\n",
        "pipelines = {}\r\n",
        "for folder in folders:\r\n",
        "  print(\"Folder %s  \" % (folder))\r\n",
        "  pipelines[os.path.split(folder)[1]] = (Augmentor.Pipeline(folder))\r\n",
        "  print(\"\\n--------------------------------------\\n\")\r\n",
        "#print(pipelines)"
      ],
      "execution_count": 23,
      "outputs": [
        {
          "output_type": "stream",
          "text": [
            "Folder /content/drive/My Drive/Colab Notebooks/augmentation_augmentor/3  \n",
            "Initialised with 3 image(s) found.\n",
            "Output directory set to /content/drive/My Drive/Colab Notebooks/augmentation_augmentor/3/output.\n",
            "--------------------------------------\n",
            "\n",
            "Folder /content/drive/My Drive/Colab Notebooks/augmentation_augmentor/2  \n",
            "Initialised with 4 image(s) found.\n",
            "Output directory set to /content/drive/My Drive/Colab Notebooks/augmentation_augmentor/2/output.\n",
            "--------------------------------------\n",
            "\n",
            "Folder /content/drive/My Drive/Colab Notebooks/augmentation_augmentor/1  \n",
            "Initialised with 6 image(s) found.\n",
            "Output directory set to /content/drive/My Drive/Colab Notebooks/augmentation_augmentor/1/output.\n",
            "--------------------------------------\n",
            "\n",
            "{'3': <Augmentor.Pipeline.Pipeline object at 0x7f6db6af5908>, '2': <Augmentor.Pipeline.Pipeline object at 0x7f6db6b0c208>, '1': <Augmentor.Pipeline.Pipeline object at 0x7f6db6ae1cf8>}\n"
          ],
          "name": "stdout"
        }
      ]
    },
    {
      "cell_type": "code",
      "metadata": {
        "colab": {
          "base_uri": "https://localhost:8080/"
        },
        "id": "DL1X2iGZyCbZ",
        "outputId": "5de7756a-d796-4650-a553-f43b5aec0a3f"
      },
      "source": [
        "for p in pipelines.values():\r\n",
        "  print(\"class %s has %s samples \" % (p.augmentor_images[0].class_label, len(p.augmentor_images)))\r\n"
      ],
      "execution_count": 29,
      "outputs": [
        {
          "output_type": "stream",
          "text": [
            "class 3 has 3 samples \n",
            "class 2 has 4 samples \n",
            "class 1 has 6 samples \n"
          ],
          "name": "stdout"
        }
      ]
    },
    {
      "cell_type": "code",
      "metadata": {
        "colab": {
          "base_uri": "https://localhost:8080/"
        },
        "id": "fNl2q6v3yCfN",
        "outputId": "fbbbc303-3376-4016-cec1-c9b8dbdc86a4"
      },
      "source": [
        "for pipeline in pipelines.values():\r\n",
        "  #50 % vont subir a une rotation,rotation a droit et a gauche avec un range de 5\r\n",
        "  pipeline.rotate(probability =0.5,max_left_rotation=5, max_right_rotation=5)\r\n",
        "  pipeline.flip_left_right(probability =0.5)\r\n",
        "  #zoomer avec un percentage 0.8\r\n",
        "  pipeline.zoom_random(probability =0.5, percentage_area=0.8)\r\n",
        "  pipeline.flip_top_bottom(probability =0.5)\r\n",
        "  #je veux faire une taille unique a toutes mes images\r\n",
        "  pipeline.resize(probability =1, width=224, height=244)\r\n",
        "  pipeline.process()#pour aplliquer ces transformations sur mes classes \r\n",
        "  pipeline.sample(10)#le nombre d'images que je veux generer"
      ],
      "execution_count": 31,
      "outputs": [
        {
          "output_type": "stream",
          "text": [
            "Processing <PIL.Image.Image image mode=RGB size=224x244 at 0x7F6DB6C09320>: 100%|██████████| 3/3 [00:00<00:00, 32.63 Samples/s]\n",
            "Processing <PIL.Image.Image image mode=RGB size=224x244 at 0x7F6DB6B0CE80>: 100%|██████████| 10/10 [00:00<00:00, 58.30 Samples/s]\n",
            "Processing <PIL.Image.Image image mode=RGB size=224x244 at 0x7F6DB6B0CA58>: 100%|██████████| 4/4 [00:00<00:00, 36.29 Samples/s]\n",
            "Processing <PIL.Image.Image image mode=RGB size=224x244 at 0x7F6DB6AF5898>: 100%|██████████| 10/10 [00:00<00:00, 37.81 Samples/s]\n",
            "Processing <PIL.Image.Image image mode=RGB size=224x244 at 0x7F6DB6AB4BA8>: 100%|██████████| 6/6 [00:00<00:00, 45.42 Samples/s]\n",
            "Processing <PIL.Image.Image image mode=RGB size=224x244 at 0x7F6DB6AB4668>: 100%|██████████| 10/10 [00:00<00:00, 46.74 Samples/s]\n"
          ],
          "name": "stderr"
        }
      ]
    },
    {
      "cell_type": "code",
      "metadata": {
        "id": "rJiy8YrJyCjW"
      },
      "source": [
        ""
      ],
      "execution_count": null,
      "outputs": []
    }
  ]
}