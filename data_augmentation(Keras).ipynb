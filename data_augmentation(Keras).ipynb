{
  "nbformat": 4,
  "nbformat_minor": 0,
  "metadata": {
    "colab": {
      "name": "data_augmentation(Keras).ipynb",
      "provenance": [],
      "authorship_tag": "ABX9TyMkjYGaV7YhT4NycjNKWkBi",
      "include_colab_link": true
    },
    "kernelspec": {
      "name": "python3",
      "display_name": "Python 3"
    }
  },
  "cells": [
    {
      "cell_type": "markdown",
      "metadata": {
        "id": "view-in-github",
        "colab_type": "text"
      },
      "source": [
        "<a href=\"https://colab.research.google.com/github/Boukhlifi/Data_Augmentation-/blob/main/data_augmentation(Keras).ipynb\" target=\"_parent\"><img src=\"https://colab.research.google.com/assets/colab-badge.svg\" alt=\"Open In Colab\"/></a>"
      ]
    },
    {
      "cell_type": "code",
      "metadata": {
        "id": "KRKq1bbFACrC"
      },
      "source": [
        "from keras.preprocessing.image import load_img\r\n",
        "from keras.preprocessing.image import img_to_array\r\n",
        "from keras.preprocessing.image import ImageDataGenerator"
      ],
      "execution_count": 13,
      "outputs": []
    },
    {
      "cell_type": "code",
      "metadata": {
        "id": "r16B1UwVOQ_B"
      },
      "source": [
        "#creation d'un generator en faisant quelques transformations pour augmenter le data \r\n",
        "datagen = ImageDataGenerator(\r\n",
        "    rotation_range =40,\r\n",
        "    horizontal_flip = 'true',#symetrie axial\r\n",
        "    vertical_flip = 'true',\r\n",
        "    zoom_range = 0.2)"
      ],
      "execution_count": 14,
      "outputs": []
    },
    {
      "cell_type": "code",
      "metadata": {
        "colab": {
          "base_uri": "https://localhost:8080/"
        },
        "id": "cQYju_42ORL4",
        "outputId": "b4516980-85c4-491e-cdf5-68680e199960"
      },
      "source": [
        "from google.colab import drive\r\n",
        "drive.mount('/content/drive')"
      ],
      "execution_count": 15,
      "outputs": [
        {
          "output_type": "stream",
          "text": [
            "Drive already mounted at /content/drive; to attempt to forcibly remount, call drive.mount(\"/content/drive\", force_remount=True).\n"
          ],
          "name": "stdout"
        }
      ]
    },
    {
      "cell_type": "code",
      "metadata": {
        "id": "NjeTe1YQtmLp"
      },
      "source": [
        ""
      ],
      "execution_count": null,
      "outputs": []
    },
    {
      "cell_type": "code",
      "metadata": {
        "colab": {
          "base_uri": "https://localhost:8080/"
        },
        "id": "FEd4JCf3ORVS",
        "outputId": "164db3c5-e54b-4437-9826-2093f42484c4"
      },
      "source": [
        "img = load_img('/content/drive/My Drive/Colab Notebooks/mug1.jpg')\r\n",
        "x = img_to_array(img)# creation d'un numpy array avec un shape de (n,m,3)\r\n",
        "print(x.shape)\r\n",
        "x = x.reshape((1,) + x.shape)# convertir to un numpy array avec un shape de (1,n,m,3)\r\n",
        "print(x.shape)"
      ],
      "execution_count": 10,
      "outputs": [
        {
          "output_type": "stream",
          "text": [
            "(1000, 1000, 3)\n",
            "(1, 1000, 1000, 3)\n"
          ],
          "name": "stdout"
        }
      ]
    },
    {
      "cell_type": "code",
      "metadata": {
        "colab": {
          "base_uri": "https://localhost:8080/"
        },
        "id": "vC9gByl3V2bH",
        "outputId": "788eeeea-df15-415a-88d0-b47a294db40d"
      },
      "source": [
        "i = 0\r\n",
        "for batch in datagen.flow(x, save_to_dir='/content/drive/My Drive/Colab Notebooks/augmentation_data', save_prefix = 'mug', save_format ='jpeg'):\r\n",
        "  i+=1\r\n",
        "  print(\"image\" + str(i))\r\n",
        "  if i>36:\r\n",
        "    break"
      ],
      "execution_count": 12,
      "outputs": [
        {
          "output_type": "stream",
          "text": [
            "image1\n",
            "image2\n",
            "image3\n",
            "image4\n",
            "image5\n",
            "image6\n",
            "image7\n",
            "image8\n",
            "image9\n",
            "image10\n",
            "image11\n",
            "image12\n",
            "image13\n",
            "image14\n",
            "image15\n",
            "image16\n",
            "image17\n",
            "image18\n",
            "image19\n",
            "image20\n",
            "image21\n",
            "image22\n",
            "image23\n",
            "image24\n",
            "image25\n",
            "image26\n",
            "image27\n",
            "image28\n",
            "image29\n",
            "image30\n",
            "image31\n",
            "image32\n",
            "image33\n",
            "image34\n",
            "image35\n",
            "image36\n",
            "image37\n"
          ],
          "name": "stdout"
        }
      ]
    }
  ]
}